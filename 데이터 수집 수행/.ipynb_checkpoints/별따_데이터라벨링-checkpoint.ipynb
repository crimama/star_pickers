{
 "cells": [
  {
   "cell_type": "code",
   "execution_count": 1,
   "id": "6cdf9878",
   "metadata": {},
   "outputs": [],
   "source": [
    "import pandas as pd \n",
    "import matplotlib.pyplot as plt \n",
    "import numpy as np \n",
    "from tqdm import tqdm"
   ]
  },
  {
   "cell_type": "markdown",
   "id": "df65f21f",
   "metadata": {},
   "source": [
    "# 04.05 데이터 "
   ]
  },
  {
   "cell_type": "code",
   "execution_count": 2,
   "id": "e896227c",
   "metadata": {},
   "outputs": [],
   "source": [
    "df = pd.read_csv('./임훈&조상훈_20220405.csv',header=None)\n",
    "column_lists = [\"DATE\",\"ID\",\"ACCEL_X\",\"ACCEL_Y\",\"ACCEL_Z\",\"GYRO_X\",\"GYRO_Y\",\"GYRO_Z\",\"PITCH\",\"ROLL\",\"LAT\",\"LON\",\"VELOCITY\",\"ALT\",\"EVENT0\",\"EVENT1\",\"EVENT2\",\"EVENT3\"]\n",
    "df.columns = column_lists\n",
    "df['DATE'] = pd.to_datetime(df['DATE'])"
   ]
  },
  {
   "cell_type": "markdown",
   "id": "231532d8",
   "metadata": {},
   "source": [
    "## 컬럼추가 "
   ]
  },
  {
   "cell_type": "code",
   "execution_count": 3,
   "id": "3acb5490",
   "metadata": {},
   "outputs": [],
   "source": [
    "df['indo'] = 0 \n",
    "df['chado'] = 0 \n",
    "df['jumja'] = 0"
   ]
  },
  {
   "cell_type": "markdown",
   "id": "c3f702c0",
   "metadata": {},
   "source": [
    "## 라벨링 "
   ]
  },
  {
   "cell_type": "markdown",
   "id": "4841f0a8",
   "metadata": {},
   "source": [
    "### 1차영상 \n",
    "- 4월5일 9시 56분 9초 ~ 4월5일 10시 00분 7초 "
   ]
  },
  {
   "cell_type": "code",
   "execution_count": 4,
   "id": "dde835b1",
   "metadata": {},
   "outputs": [],
   "source": [
    "#1차 영상 기준 시간 \n",
    "std_time = pd.to_datetime(['2022-04-05 09:56:09'])"
   ]
  },
  {
   "cell_type": "code",
   "execution_count": 8,
   "id": "7198d891",
   "metadata": {},
   "outputs": [],
   "source": [
    "df['group'] = 0"
   ]
  },
  {
   "cell_type": "code",
   "execution_count": 35,
   "id": "1fb6758e",
   "metadata": {},
   "outputs": [],
   "source": [
    "def make_label(t_i,t_f,col,df,index):\n",
    "    temp_df= df \n",
    "    lower_time = std_time + np.timedelta64(t_i,'s')\n",
    "    upper_time = std_time + np.timedelta64(t_f,'s')\n",
    "    temp_df.loc[(temp_df['DATE'] >= lower_time[0]) & (temp_df['DATE']<upper_time[0]),col] = 1\n",
    "    temp_df.loc[(temp_df['DATE'] >= lower_time[0]) & (temp_df['DATE']<upper_time[0]),'group'] = index\n",
    "    return temp_df"
   ]
  },
  {
   "cell_type": "code",
   "execution_count": 12,
   "id": "e206c57a",
   "metadata": {},
   "outputs": [],
   "source": [
    "# a = []\n",
    "# while(True):\n",
    "#     print('시작시간')\n",
    "#     t_i = int(input())\n",
    "#     print('종료시간')\n",
    "#     t_f = int(input())\n",
    "#     print('컬럼')\n",
    "#     col = input() \n",
    "#     a.append([t_i,t_f,col])\n",
    "#     if t_i == 'break':\n",
    "#         break"
   ]
  },
  {
   "cell_type": "code",
   "execution_count": 8,
   "id": "ee1937e9",
   "metadata": {},
   "outputs": [],
   "source": [
    "# indo chado jumja"
   ]
  },
  {
   "cell_type": "code",
   "execution_count": 27,
   "id": "3bf4d4d5",
   "metadata": {},
   "outputs": [],
   "source": [
    "a = [[0, 39, 'indo'],\n",
    " [39, 40, 'jumja'],\n",
    " [40, 41, 'chado'],\n",
    " [41, 42, 'jumja'],\n",
    " [42, 52, 'indo'],\n",
    " [52, 54, 'jumja'],\n",
    " [54, 55, 'chado'],\n",
    " [55, 57, 'jumja'],\n",
    " [57, 68, 'indo'],\n",
    " [68, 70, 'chado'],\n",
    " [70, 73, 'jumja'],\n",
    " [73, 76, 'chado'],\n",
    " [76, 77, 'jumja'],\n",
    " [77, 138, 'indo'],\n",
    " [138, 141, 'chado'],\n",
    " [141, 147, 'indo'],\n",
    " [147, 148, 'jumja'],\n",
    " [148, 150, 'chado'],\n",
    " [150, 189, 'indo'],\n",
    " [189, 388, 'indo'],\n",
    " [388, 409, 'chado'],\n",
    " [409, 424, 'indo'],\n",
    " [424, 425, 'jumja'],\n",
    " [425, 455, 'chado'],\n",
    " [455, 463, 'jumja'],\n",
    " [463, 492, 'indo'],\n",
    " [492, 494, 'chado'],\n",
    " [605, 610, 'jumja']]"
   ]
  },
  {
   "cell_type": "code",
   "execution_count": 29,
   "id": "4e7cb853",
   "metadata": {},
   "outputs": [],
   "source": [
    "a = pd.DataFrame(a)\n",
    "a[3] = np.arange(28)\n",
    "a = np.array(a)"
   ]
  },
  {
   "cell_type": "code",
   "execution_count": 39,
   "id": "6ff78a08",
   "metadata": {},
   "outputs": [
    {
     "name": "stderr",
     "output_type": "stream",
     "text": [
      "100%|█████████████████████████████████████████████████████████████████████████████████| 28/28 [00:00<00:00, 307.49it/s]\n"
     ]
    }
   ],
   "source": [
    "for i in tqdm(a):\n",
    "    df = make_label(i[0],i[1],i[2],df,i[3])"
   ]
  },
  {
   "cell_type": "markdown",
   "id": "b16a3253",
   "metadata": {},
   "source": [
    "### 2차 영상 \n",
    "- 4월 5일 10시 00분 15초 ~ 4월 5일 10시 12분 59초 "
   ]
  },
  {
   "cell_type": "code",
   "execution_count": 43,
   "id": "758dcd4a",
   "metadata": {},
   "outputs": [],
   "source": [
    "std_time = pd.to_datetime(['2022-04-05 10:00:15']) "
   ]
  },
  {
   "cell_type": "code",
   "execution_count": 44,
   "id": "e016c49e",
   "metadata": {},
   "outputs": [],
   "source": [
    "# # b = []\n",
    "# while(True):\n",
    "#     print('시작시간')\n",
    "#     t_i = int(input())\n",
    "#     print('종료시간')\n",
    "#     t_f = int(input())\n",
    "#     print('컬럼')\n",
    "#     col = input() \n",
    "#     b.append([t_i,t_f,col])\n",
    "#     if t_i == 'break':\n",
    "#         break"
   ]
  },
  {
   "cell_type": "code",
   "execution_count": 45,
   "id": "a22d0241",
   "metadata": {},
   "outputs": [],
   "source": [
    "b = [[0, 39, 'indo'],\n",
    " [39, 40, 'jumja'],\n",
    " [40, 41, 'chado'],\n",
    " [41, 42, 'jumja'],\n",
    " [42, 52, 'indo'],\n",
    " [52, 54, 'jumja'],\n",
    " [54, 55, 'chado'],\n",
    " [55, 57, 'jumja'],\n",
    " [57, 68, 'indo'],\n",
    " [68, 70, 'chado'],\n",
    " [70, 73, 'jumja'],\n",
    " [73, 76, 'chado'],\n",
    " [76, 77, 'jumja'],\n",
    " [77, 138, 'indo'],\n",
    " [138, 141, 'chado'],\n",
    " [141, 147, 'indo'],\n",
    " [147, 148, 'jumja'],\n",
    " [148, 150, 'chado'],\n",
    " [150, 189, 'indo'],\n",
    " [189, 208, 'indo'],\n",
    " [208, 388, 'indo'],\n",
    " [388, 409, 'chado'],\n",
    " [409, 424, 'indo'],\n",
    " [424, 425, 'jumja'],\n",
    " [425, 455, 'chado'],\n",
    " [455, 462, 'jumja'],\n",
    " [462, 492, 'indo'],\n",
    " [492, 494, 'chado'],\n",
    " [494, 605, 'indo'],\n",
    " [605, 610, 'jumja']]"
   ]
  },
  {
   "cell_type": "code",
   "execution_count": 60,
   "id": "edbc0c49",
   "metadata": {},
   "outputs": [
    {
     "data": {
      "text/plain": [
       "array([28, 29, 30, 31, 32, 33, 34, 35, 36, 37, 38, 39, 40, 41, 42, 43, 44,\n",
       "       45, 46, 47, 48, 49, 50, 51, 52, 53, 54, 55, 56, 57])"
      ]
     },
     "execution_count": 60,
     "metadata": {},
     "output_type": "execute_result"
    }
   ],
   "source": []
  },
  {
   "cell_type": "code",
   "execution_count": 61,
   "id": "4cbe3667",
   "metadata": {},
   "outputs": [],
   "source": [
    "b = pd.DataFrame(b)\n",
    "b[3] = np.arange(28,58)\n",
    "b = np.array(b)"
   ]
  },
  {
   "cell_type": "code",
   "execution_count": 62,
   "id": "f91b7ba5",
   "metadata": {},
   "outputs": [
    {
     "name": "stderr",
     "output_type": "stream",
     "text": [
      "100%|█████████████████████████████████████████████████████████████████████████████████| 30/30 [00:00<00:00, 315.07it/s]\n"
     ]
    }
   ],
   "source": [
    "for i in tqdm(b):\n",
    "    df = make_label(i[0],i[1],i[2],df,i[3])"
   ]
  },
  {
   "cell_type": "code",
   "execution_count": 53,
   "id": "82518743",
   "metadata": {},
   "outputs": [],
   "source": [
    "df = df.reset_index()"
   ]
  },
  {
   "cell_type": "code",
   "execution_count": 63,
   "id": "183aaf85",
   "metadata": {},
   "outputs": [
    {
     "data": {
      "text/plain": [
       "[<matplotlib.lines.Line2D at 0x22114743ac0>]"
      ]
     },
     "execution_count": 63,
     "metadata": {},
     "output_type": "execute_result"
    },
    {
     "data": {
      "image/png": "[encoded data removed]",
      "text/plain": [
       "<Figure size 432x288 with 1 Axes>"
      ]
     },
     "metadata": {
      "needs_background": "light"
     },
     "output_type": "display_data"
    }
   ],
   "source": [
    "plt.plot(df['group'])"
   ]
  },
  {
   "cell_type": "code",
   "execution_count": 65,
   "id": "415a3d0a",
   "metadata": {},
   "outputs": [],
   "source": [
    "df.to_csv('04.05_riding_labeled.csv',index=False)"
   ]
  }
 ],
 "metadata": {
  "kernelspec": {
   "display_name": "Python 3 (ipykernel)",
   "language": "python",
   "name": "python3"
  },
  "language_info": {
   "codemirror_mode": {
    "name": "ipython",
    "version": 3
   },
   "file_extension": ".py",
   "mimetype": "text/x-python",
   "name": "python",
   "nbconvert_exporter": "python",
   "pygments_lexer": "ipython3",
   "version": "3.9.7"
  },
  "toc": {
   "base_numbering": 1,
   "nav_menu": {},
   "number_sections": true,
   "sideBar": true,
   "skip_h1_title": false,
   "title_cell": "Table of Contents",
   "title_sidebar": "Contents",
   "toc_cell": false,
   "toc_position": {},
   "toc_section_display": true,
   "toc_window_display": false
  }
 },
 "nbformat": 4,
 "nbformat_minor": 5
}
